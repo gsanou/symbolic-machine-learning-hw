{
 "cells": [
  {
   "cell_type": "code",
   "execution_count": 2,
   "metadata": {},
   "outputs": [
    {
     "name": "stdout",
     "output_type": "stream",
     "text": [
      "env: JAVA_HOME=/Library/Java/JavaVirtualMachines/jdk1.8.0_112.jdk/Contents/Home\n"
     ]
    }
   ],
   "source": [
    "%env JAVA_HOME=/Library/Java/JavaVirtualMachines/jdk1.8.0_112.jdk/Contents/Home"
   ]
  },
  {
   "cell_type": "markdown",
   "metadata": {
    "collapsed": true
   },
   "source": [
    "The basic principles of working with this library were shown in the notebook in the previous tutorial. This notebook describes only one functionality of the library, which may be helpful for your assignment."
   ]
  },
  {
   "cell_type": "markdown",
   "metadata": {},
   "source": [
    "See the following example which test whether one clause subsume another one."
   ]
  },
  {
   "cell_type": "code",
   "execution_count": 6,
   "metadata": {},
   "outputs": [],
   "source": [
    "from logic import *\n",
    "from bridge import subsume\n",
    "from dataset import ClauseDataset\n"
   ]
  },
  {
   "cell_type": "markdown",
   "metadata": {},
   "source": [
    "See the following example which test whether one clause subsume another one."
   ]
  },
  {
   "cell_type": "code",
   "execution_count": 7,
   "metadata": {},
   "outputs": [
    {
     "name": "stdout",
     "output_type": "stream",
     "text": [
      "c1 does False theta subsume c2\n",
      "c2 does True theta subsume c1\n"
     ]
    }
   ],
   "source": [
    "c1 = Clause.parse(\"!human(X),!sibling(X,Y),human(Y)\")\n",
    "c2 = Clause.parse(\"!human(Z)\")\n",
    "print(\"c1 does {} theta subsume c2\".format(subsume(c1,c2)))\n",
    "print(\"c2 does {} theta subsume c1\".format(subsume(c2,c1)))"
   ]
  },
  {
   "cell_type": "markdown",
   "metadata": {},
   "source": [
    "For Python begginers who would search for similar functionality as instanceof in Java for example, use Python's function instanceof."
   ]
  },
  {
   "cell_type": "code",
   "execution_count": 9,
   "metadata": {},
   "outputs": [
    {
     "name": "stdout",
     "output_type": "stream",
     "text": [
      "X is  a term\n",
      "X is not a constant\n",
      "X is  a variable\n",
      "X is not a compound term\n"
     ]
    }
   ],
   "source": [
    "x = c1.literals[0].atom.terms[0]\n",
    "print(\"{} is {} a term\".format(x, \"\" if isinstance(x, Term) else \"not\"))\n",
    "print(\"{} is {} a constant\".format(x, \"\" if isinstance(x, Constant) else \"not\"))\n",
    "print(\"{} is {} a variable\".format(x, \"\" if isinstance(x, Variable) else \"not\"))\n",
    "print(\"{} is {} a compound term\".format(x, \"\" if isinstance(x, CompoundTerm) else \"not\"))"
   ]
  },
  {
   "cell_type": "markdown",
   "metadata": {},
   "source": [
    "Similary to the InterpretationDataset, there is a class ClauseDataset, e.g."
   ]
  },
  {
   "cell_type": "code",
   "execution_count": 10,
   "metadata": {},
   "outputs": [
    {
     "name": "stdout",
     "output_type": "stream",
     "text": [
      "label +, clause: !female(ingrid) | !female(jana) | !parent(ingrid, jana) | daugther(jana).\n",
      "label +, clause: !female(amalia) | !male(dan) | !parent(dan, amalia) | daugther(amalia).\n",
      "label +, clause: !female(X) | !human(Y) | !parent(Y, X) | daugther(X).\n",
      "label -, clause: !man(X) | !parent(Y, X) | son(X).\n"
     ]
    }
   ],
   "source": [
    "data = ClauseDataset(os.path.sep.join(['.', 'data', 'daughter']))\n",
    "for sample in data:\n",
    "    print(\"label {}, clause: {}\".format(\"+\" if sample.positiveClass else \"-\", sample.data))\n"
   ]
  },
  {
   "cell_type": "code",
   "execution_count": null,
   "metadata": {},
   "outputs": [],
   "source": []
  }
 ],
 "metadata": {
  "kernelspec": {
   "display_name": "Python 3",
   "language": "python",
   "name": "python3"
  },
  "language_info": {
   "codemirror_mode": {
    "name": "ipython",
    "version": 3
   },
   "file_extension": ".py",
   "mimetype": "text/x-python",
   "name": "python",
   "nbconvert_exporter": "python",
   "pygments_lexer": "ipython3",
   "version": "3.6.4"
  }
 },
 "nbformat": 4,
 "nbformat_minor": 1
}
