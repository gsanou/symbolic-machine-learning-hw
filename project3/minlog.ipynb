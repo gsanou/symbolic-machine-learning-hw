{
 "cells": [
  {
   "cell_type": "code",
   "execution_count": 2,
   "metadata": {},
   "outputs": [
    {
     "name": "stdout",
     "output_type": "stream",
     "text": [
      "env: JAVA_HOME=/Library/Java/JavaVirtualMachines/jdk1.8.0_112.jdk/Contents/Home\n"
     ]
    }
   ],
   "source": [
    "%env JAVA_HOME=/Library/Java/JavaVirtualMachines/jdk1.8.0_112.jdk/Contents/Home"
   ]
  },
  {
   "cell_type": "markdown",
   "metadata": {
    "collapsed": true
   },
   "source": [
    "Let's create a clause and see what is inside"
   ]
  },
  {
   "cell_type": "code",
   "execution_count": 3,
   "metadata": {},
   "outputs": [],
   "source": [
    "from logic import *\n",
    "from dataset import InterpretationDataset"
   ]
  },
  {
   "cell_type": "code",
   "execution_count": 4,
   "metadata": {},
   "outputs": [
    {
     "name": "stdout",
     "output_type": "stream",
     "text": [
      "clause !human(socrates) | !human(sonOf(Y)) | !sibling(socrates, Y) | mortal(Y).\n",
      "ground literal !human(socrates) contains following arguments\n",
      "\t0-th argument:\tsocrates\n",
      "non-ground literal !sibling(socrates, Y) contains following arguments\n",
      "\t0-th argument:\tsocrates\n",
      "\t1-th argument:\tY\n",
      "non-ground literal !human(sonOf(Y)) contains following arguments\n",
      "\t0-th argument:\tsonOf(Y)\n",
      "non-ground literal mortal(Y) contains following arguments\n",
      "\t0-th argument:\tY\n"
     ]
    }
   ],
   "source": [
    "clause = Clause.parse(\"!human(socrates),!sibling(socrates,Y),!human(sonOf(Y)),mortal(Y)\")\n",
    "\n",
    "print(\"clause {}\".format(clause))\n",
    "\n",
    "for literal in clause:\n",
    "    print(\"{}ground literal {} contains following arguments\".format(\"\" if literal.isGround() else \"non-\", literal))\n",
    "    for term, idx in zip(literal, range(0, len(literal))):\n",
    "        print(\"\\t{}-th argument:\\t{}\".format(idx, term))"
   ]
  },
  {
   "cell_type": "markdown",
   "metadata": {},
   "source": [
    "Let's see how to go throught a datset of interpretations."
   ]
  },
  {
   "cell_type": "code",
   "execution_count": 12,
   "metadata": {},
   "outputs": [],
   "source": [
    "data = InterpretationDataset(os.path.sep.join(['.','data','lectureGraphs']))"
   ]
  },
  {
   "cell_type": "code",
   "execution_count": 13,
   "metadata": {},
   "outputs": [
    {
     "name": "stdout",
     "output_type": "stream",
     "text": [
      "- : {edge(11, 13), edge(14, 11), edge(14, 13), edge(12, 13), edge(12, 14)}\n",
      "- : {edge(21, 22), edge(22, 23), edge(23, 21), edge(22, 24)}\n",
      "- : {edge(33, 31), edge(31, 32), edge(32, 33), edge(32, 34), edge(33, 34)}\n",
      "+ : {edge(43, 41), edge(41, 42), edge(42, 44), edge(43, 44)}\n",
      "+ : {edge(51, 52), edge(52, 53)}\n",
      "+ : {edge(63, 67), edge(67, 66), edge(66, 61), edge(61, 62), edge(62, 63), edge(63, 64), edge(64, 65), edge(65, 68), edge(68, 67)}\n",
      "- : {edge(11, 13), edge(14, 11), edge(14, 13), edge(12, 13), edge(12, 14)}\n"
     ]
    }
   ],
   "source": [
    "for sample in data:\n",
    "    print(sample)"
   ]
  },
  {
   "cell_type": "markdown",
   "metadata": {},
   "source": [
    "Each sample, i.e. observation, consists of a class, e.g. pos/neg, and a set of atoms which holds. Their are easily accesible."
   ]
  },
  {
   "cell_type": "code",
   "execution_count": 14,
   "metadata": {},
   "outputs": [
    {
     "name": "stdout",
     "output_type": "stream",
     "text": [
      "class of this sample is\tneg\n",
      "the sample contains following facts\n",
      "\tedge(11, 13)\n",
      "\tedge(14, 11)\n",
      "\tedge(14, 13)\n",
      "\tedge(12, 13)\n",
      "\tedge(12, 14)\n"
     ]
    }
   ],
   "source": [
    "sample = tuple(data)[0]\n",
    "print('class of this sample is\\t{}'.format(\"pos\" if sample.positiveClass else \"neg\"))\n",
    "print('the sample contains following facts')\n",
    "for atom in sample:\n",
    "    print(\"\\t{}\".format(atom))"
   ]
  },
  {
   "cell_type": "markdown",
   "metadata": {},
   "source": [
    "Keep in mind that two expressions even parsed by the same process are not the same instance, thus 'is' comparator does not return what is probably expected from the first sight. Therefore, it is advised to use \"==\" comparator. See following examples and compare the output to what you expect."
   ]
  },
  {
   "cell_type": "code",
   "execution_count": 19,
   "metadata": {},
   "outputs": [
    {
     "name": "stdout",
     "output_type": "stream",
     "text": [
      "False\n",
      "False\n",
      "True\n",
      "X\tvs\tX\n",
      "\tFalse\n",
      "\tTrue\n",
      "a\tvs\ta\n",
      "\tFalse\n",
      "\tTrue\n"
     ]
    }
   ],
   "source": [
    "c1 = Clause.parse(\"p(X,a)\")\n",
    "c2 = Clause.parse(\"p(X,a)\")\n",
    "\n",
    "print(c1.literals[0] is c2.literals[0])\n",
    "\n",
    "print(c1 is c2)\n",
    "print(c1 == c2)\n",
    "\n",
    "for t1, t2 in zip(c1.literals[0].atom.terms, c2.literals[0].atom.terms):\n",
    "    print(\"{}\\tvs\\t{}\".format(t1, t2))\n",
    "    print(\"\\t{}\".format(t1 is t2))\n",
    "    print(\"\\t{}\".format(t1 == t2))"
   ]
  },
  {
   "cell_type": "markdown",
   "metadata": {},
   "source": [
    "Despite the fact that two clauses are logically equal, they are not equal by the \"==\" operator. The operator is implemented by lexical comparison only."
   ]
  },
  {
   "cell_type": "code",
   "execution_count": 16,
   "metadata": {},
   "outputs": [
    {
     "name": "stdout",
     "output_type": "stream",
     "text": [
      "False\n"
     ]
    }
   ],
   "source": [
    "c3 = Clause.parse(\"p(X,Y)\")\n",
    "c4 = Clause.parse(\"p(Z,W)\")\n",
    "print(c3 == c4)"
   ]
  },
  {
   "cell_type": "markdown",
   "metadata": {},
   "source": [
    "The easiest way to apply a substitution to a clause is to create a substitution, i.e. a dictionary of terms indexed by variables. "
   ]
  },
  {
   "cell_type": "code",
   "execution_count": 17,
   "metadata": {},
   "outputs": [
    {
     "name": "stdout",
     "output_type": "stream",
     "text": [
      "siblings(issac, kain, X, W).\n"
     ]
    }
   ],
   "source": [
    "c5 = Clause.parse(\"siblings(X,Y,Z,W)\")\n",
    "x = Variable(\"X\")\n",
    "y = Variable(\"Y\")\n",
    "z = Variable(\"Z\")\n",
    "issac = Constant(\"issac\")\n",
    "kain = Constant(\"kain\")\n",
    "substitution = {x : issac, y : kain, z : x}\n",
    "substitutedClause = c5.substitute(substitution)\n",
    "print(substitutedClause)"
   ]
  },
  {
   "cell_type": "markdown",
   "metadata": {},
   "source": [
    "Note here one important thing. The substituted clause should look, by the definition of substitution in FOL, as sibling(issac, kain, issac, W). However, this library supports, and also expects, flat substitutions only. Therefore, no chaning is applied during the substitution process, e.g. the result is siblings(issac,kain,X,W) since no chaning {Z -> X, X -> issac} is done. If you want such behavior, then flatten the substitution first, e.g. {Z -> issac, X -> issac}. However, in our tutorials, we do not need such functionality."
   ]
  }
 ],
 "metadata": {
  "kernelspec": {
   "display_name": "Python 3",
   "language": "python",
   "name": "python3"
  },
  "language_info": {
   "codemirror_mode": {
    "name": "ipython",
    "version": 3
   },
   "file_extension": ".py",
   "mimetype": "text/x-python",
   "name": "python",
   "nbconvert_exporter": "python",
   "pygments_lexer": "ipython3",
   "version": "3.6.4"
  }
 },
 "nbformat": 4,
 "nbformat_minor": 1
}
