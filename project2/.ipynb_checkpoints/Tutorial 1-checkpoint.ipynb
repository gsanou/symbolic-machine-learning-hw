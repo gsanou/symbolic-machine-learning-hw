{
 "cells": [
  {
   "cell_type": "markdown",
   "metadata": {
    "hideCode": false,
    "hidePrompt": false
   },
   "source": [
    "# Bayesian Networks\n",
    "\n",
    "## What is a Bayesian network?\n",
    "\n",
    "* directed acyclic graph – DAG\n",
    "* nodes represent random variables\n",
    "* edges represent direct dependence\n",
    "* nodes annotated by probabilities\n",
    "* node conditioned by conjunction of all its parents\n",
    " * $Pr(P_1 , . . . , P_n ) = Pr(P_1 |parents(P_1)) × · · · × Pr(P_n |parents(P_n))$"
   ]
  },
  {
   "cell_type": "markdown",
   "metadata": {
    "hideCode": false,
    "hidePrompt": false,
    "nbpresent": {
     "id": "f76aacd9-a2af-44a1-a4d8-c13268b4425c"
    }
   },
   "source": [
    "## Motivation\n",
    "\n",
    "* full probability model has exponential number of parameters\n",
    "$$Pr(P_1 , P_2 , . . . , P_n ) = Pr(P_1 ) × Pr(P_2 , . . . , P_n |P_1 ) \n",
    "                               = Pr(P_1 ) × Pr(P_2 |P_1 ) × Pr(P_3 , . . . , P_n |P_1 , P_2 ) = · · · \n",
    "                               = Pr(P_1 ) × Pr(P_2 |P_1 ) × Pr(P_3 |P_1 , P_2 ) × · · · × Pr(P_n |P_1 , . . . , P_{n−1} )$$\n",
    "\n",
    "* any joint probability can be approximated by the simplified model\n",
    "\n",
    "<img src=\"motivation.png\" width=550px>\n",
    "\n",
    "\n",
    "* $Pr(e, m, a) = Pr(m) × Pr(e|m) × Pr(a|e,m) = .585 × .535 × .625 = .195$ the full model\n",
    " \n",
    "* $Pr(e, m, a) = Pr(m) × Pr(e|m) × Pr(a|e) = .585 × .535 × .629 = .197$ the simplified model"
   ]
  },
  {
   "cell_type": "markdown",
   "metadata": {
    "hideCode": false,
    "hidePrompt": false
   },
   "source": [
    "## Conditional independece\n",
    "\n",
    " * Two random variables $A$ and $B$ are conditionally independent given $C$ if $Pr(A|B,C) = Pr(A|C)$\n",
    " * alternatively $Pr(A,B|C) = Pr(A|C) × Pr(B|C), ∀A, B, C, Pr(C) \\neq 0$"
   ]
  },
  {
   "cell_type": "markdown",
   "metadata": {
    "hideCode": false,
    "hidePrompt": false
   },
   "source": [
    "### linear connection\n",
    "\n",
    "<img src=\"linear.png\" width=150px>\n",
    "\n",
    "From Bayes rule:    $Pr(A,B,C) = Pr(A)Pr(B|A)Pr(C|A,B)$\n",
    "\n",
    "From BN definition: $Pr(A,B,C) = Pr(A)Pr(B|A)Pr(C|B)$\n",
    "\n",
    "$\\implies Pr(C|B) = Pr(C|A,B)$"
   ]
  },
  {
   "cell_type": "markdown",
   "metadata": {
    "hideCode": false,
    "hidePrompt": false
   },
   "source": [
    "### diverging connection\n",
    "\n",
    "<img src=\"diverging.png\" width=250px>\n",
    "\n",
    "From Bayes rule:    $Pr(A,B,C) = Pr(B)Pr(C|B)Pr(A|B,C)$\n",
    "\n",
    "From BN definition: $Pr(A,B,C) = Pr(B)Pr(C|B)Pr(A|B)$\n",
    "\n",
    "$\\implies Pr(C|B) = Pr(C|A,B)$"
   ]
  },
  {
   "cell_type": "markdown",
   "metadata": {
    "hideCode": false,
    "hidePrompt": false
   },
   "source": [
    "### converging connection\n",
    "\n",
    "<img src=\"converging.png\" width=250px>\n",
    "\n",
    "From Bayes rule:    $Pr(A,B,C) = Pr(B|A,C)Pr(A,C)$\n",
    "\n",
    "From BN definition: $Pr(A,B,C) = Pr(B|A,C)Pr(A)Pr(C)$\n",
    "\n",
    "$\\implies Pr(A,C) = Pr(A)Pr(C)$"
   ]
  },
  {
   "cell_type": "markdown",
   "metadata": {
    "hideCode": false,
    "hidePrompt": false
   },
   "source": [
    "## d-separation\n",
    "\n",
    "* uses connections to determine CI between sets of nodes\n",
    " * linear and diverging connection transmit information not given middle node\n",
    " * converging connection transmits information given middle node or its descendant\n",
    "* two node sets $X$ and $Y$ are d-separated by a node set $Z$ iff all undirected paths between arbitrary node pairs $x ∈ X$ and $y ∈ Y$ are blocked \n",
    "\n",
    "![](dseparation.png)"
   ]
  },
  {
   "cell_type": "markdown",
   "metadata": {
    "hideCode": false,
    "hidePrompt": false
   },
   "source": [
    "Having the network/graph shown in figure below, decide on the validity of following statements:\n",
    "\n",
    "1. $P_1 , P_5 \\bot P_6 |P_8$\n",
    "2. $P_2 \\bot P_6$\n",
    "3. $P_1 \\bot P_2 |P_8$\n",
    "4. $P_1 \\bot P_2, P_5 |P_4$\n",
    "\n",
    "![](independence.png)"
   ]
  },
  {
   "cell_type": "code",
   "execution_count": 1,
   "metadata": {
    "hideCode": false,
    "hidePrompt": false,
    "nbpresent": {
     "id": "c066c2f8-0948-49af-a2f3-cd082528936f"
    }
   },
   "outputs": [],
   "source": [
    "from pgmpy.models import BayesianModel"
   ]
  },
  {
   "cell_type": "code",
   "execution_count": 2,
   "metadata": {
    "hideCode": false,
    "hidePrompt": false,
    "nbpresent": {
     "id": "23522ee6-e16a-4317-b399-b5f50351fb4e"
    }
   },
   "outputs": [],
   "source": [
    "model = BayesianModel()\n",
    "model.add_nodes_from(['P' + str(x) for x in range(1,9)])\n",
    "model.add_edges_from([('P1', 'P3'), \\\n",
    "                      ('P2', 'P4'), \\\n",
    "                      ('P3', 'P5'), \\\n",
    "                      ('P3', 'P4'), \\\n",
    "                      ('P4', 'P7'), \\\n",
    "                      ('P6', 'P7'), \\\n",
    "                      ('P7', 'P8')])"
   ]
  },
  {
   "cell_type": "code",
   "execution_count": 3,
   "metadata": {
    "collapsed": true,
    "hideCode": false,
    "hidePrompt": false,
    "nbpresent": {
     "id": "a0ffd90e-a87a-4caf-ba85-903e26fc8d3c"
    }
   },
   "outputs": [],
   "source": [
    "def check_independence(model, group1, group2, observed=[]):\n",
    "    for node1 in group1:\n",
    "        for node2 in group2:\n",
    "            if model.is_active_trail(node1, node2, observed):\n",
    "                return False\n",
    "    return True"
   ]
  },
  {
   "cell_type": "code",
   "execution_count": 4,
   "metadata": {
    "hideCode": false,
    "hidePrompt": false,
    "nbpresent": {
     "id": "22edee52-e19c-44e9-992c-f1048b4e3309"
    }
   },
   "outputs": [
    {
     "name": "stdout",
     "output_type": "stream",
     "text": [
      "False\n",
      "True\n",
      "False\n",
      "False\n"
     ]
    }
   ],
   "source": [
    "print(check_independence(model, ['P1', 'P5'], ['P6'], ['P8']))\n",
    "print(check_independence(model, ['P2'], ['P6']))\n",
    "print(check_independence(model, ['P1'], ['P2'], ['P8']))\n",
    "print(check_independence(model, ['P1'], ['P2', 'P5'], ['P4']))"
   ]
  },
  {
   "cell_type": "markdown",
   "metadata": {
    "hideCode": false,
    "hidePrompt": false,
    "nbpresent": {
     "id": "8697e4bd-ebd9-48b5-b029-8a2f5ebea3fb"
    }
   },
   "source": [
    "## Inference\n",
    "\n",
    "* from observed events assumes on probability of other events,\n",
    "* observations ($E$ – a set of evidence variables, $e$ – a particular event),\n",
    "* target variables ($Q$ – a set of query variables, $q$ – a particular query variable),\n",
    "* $Pr(q|e)$ to be found,\n",
    "* network is known (both graph and CPTs)\n",
    "\n",
    "\n",
    "\n",
    " ** Marginalization ** $Pr(X) = \\sum_{y} Pr(X, y)$\n",
    "\n",
    "\n",
    "Given the network below, calculate marginal and conditional probabilities\n",
    "$Pr(¬p_3)$, $Pr(p_2|¬p_3)$, $Pr(p_1|p_2,¬p_3)$ and $Pr(p_1|¬p_3,p_4)$. Apply the method of **inference\n",
    "by enumeration**.\n",
    "\n",
    "![alt text](inference.png)"
   ]
  },
  {
   "cell_type": "code",
   "execution_count": 5,
   "metadata": {
    "collapsed": true,
    "hideCode": false,
    "hidePrompt": false,
    "nbpresent": {
     "id": "9d87ce98-3312-4549-bd71-6720243aa6fa"
    }
   },
   "outputs": [],
   "source": [
    "model = BayesianModel()\n",
    "model.add_nodes_from(['P' + str(x) for x in range(1,5)])\n",
    "model.add_edges_from([('P1', 'P2'), \\\n",
    "                      ('P2', 'P3'), \\\n",
    "                      ('P2', 'P4')])"
   ]
  },
  {
   "cell_type": "code",
   "execution_count": 6,
   "metadata": {
    "hideCode": false,
    "hidePrompt": false,
    "nbpresent": {
     "id": "48afe155-1080-4fbf-85b6-f901162532c7"
    }
   },
   "outputs": [],
   "source": [
    "from pgmpy.factors import TabularCPD\n",
    "P1_cpd = TabularCPD('P1', 2, [[0.6], [0.4]])\n",
    "P2_cpd = TabularCPD('P2',2,[[0.5,0.2],\n",
    "                            [0.5,0.8]],\n",
    "                            evidence=['P1'], evidence_card=[2])\n",
    "P3_cpd = TabularCPD('P3',2,[[0.7,0.8],\n",
    "                            [0.3,0.2]],\n",
    "                            evidence=['P2'], evidence_card=[2])\n",
    "P4_cpd = TabularCPD('P4',2,[[0.5,0.2],\n",
    "                            [0.5,0.8]],\n",
    "                            evidence=['P2'], evidence_card=[2])"
   ]
  },
  {
   "cell_type": "code",
   "execution_count": 7,
   "metadata": {
    "collapsed": true,
    "hideCode": false,
    "hidePrompt": false,
    "nbpresent": {
     "id": "1d0d7e96-6e67-4f0c-9bb1-9ef841a5d3e7"
    }
   },
   "outputs": [],
   "source": [
    "model.add_cpds(P1_cpd, P2_cpd, P3_cpd, P4_cpd)"
   ]
  },
  {
   "cell_type": "code",
   "execution_count": 8,
   "metadata": {
    "hideCode": false,
    "hidePrompt": false,
    "nbpresent": {
     "id": "4e3c777c-c11b-491e-9db6-aa2d5f97af12"
    }
   },
   "outputs": [
    {
     "name": "stdout",
     "output_type": "stream",
     "text": [
      "╒══════╤═════╕\n",
      "│ P1_0 │ 0.6 │\n",
      "├──────┼─────┤\n",
      "│ P1_1 │ 0.4 │\n",
      "╘══════╧═════╛\n",
      "╒══════╤══════╤══════╕\n",
      "│ P1   │ P1_0 │ P1_1 │\n",
      "├──────┼──────┼──────┤\n",
      "│ P2_0 │ 0.5  │ 0.2  │\n",
      "├──────┼──────┼──────┤\n",
      "│ P2_1 │ 0.5  │ 0.8  │\n",
      "╘══════╧══════╧══════╛\n",
      "╒══════╤══════╤══════╕\n",
      "│ P2   │ P2_0 │ P2_1 │\n",
      "├──────┼──────┼──────┤\n",
      "│ P3_0 │ 0.7  │ 0.8  │\n",
      "├──────┼──────┼──────┤\n",
      "│ P3_1 │ 0.3  │ 0.2  │\n",
      "╘══════╧══════╧══════╛\n",
      "╒══════╤══════╤══════╕\n",
      "│ P2   │ P2_0 │ P2_1 │\n",
      "├──────┼──────┼──────┤\n",
      "│ P4_0 │ 0.5  │ 0.2  │\n",
      "├──────┼──────┼──────┤\n",
      "│ P4_1 │ 0.5  │ 0.8  │\n",
      "╘══════╧══════╧══════╛\n"
     ]
    },
    {
     "data": {
      "text/plain": [
       "[None, None, None, None]"
      ]
     },
     "execution_count": 8,
     "metadata": {},
     "output_type": "execute_result"
    }
   ],
   "source": [
    "[print(cpd) for cpd in model.get_cpds()]"
   ]
  },
  {
   "cell_type": "code",
   "execution_count": 9,
   "metadata": {
    "hideCode": false,
    "hidePrompt": false,
    "nbpresent": {
     "id": "2dcfc2ce-f8ed-4cd3-bfd2-e86a559e0c52"
    }
   },
   "outputs": [],
   "source": [
    "from pgmpy.inference import VariableElimination\n",
    "infer = VariableElimination(model)"
   ]
  },
  {
   "cell_type": "code",
   "execution_count": 10,
   "metadata": {
    "hideCode": false,
    "hidePrompt": false,
    "nbpresent": {
     "id": "4b95ae1a-c75d-47e5-8c89-f97c17d843c9"
    }
   },
   "outputs": [
    {
     "name": "stdout",
     "output_type": "stream",
     "text": [
      "╒══════╤═══════════╕\n",
      "│ P3   │   phi(P3) │\n",
      "╞══════╪═══════════╡\n",
      "│ P3_0 │    0.7620 │\n",
      "├──────┼───────────┤\n",
      "│ P3_1 │    0.2380 │\n",
      "╘══════╧═══════════╛\n",
      "╒══════╤═══════════╕\n",
      "│ P2   │   phi(P2) │\n",
      "╞══════╪═══════════╡\n",
      "│ P2_0 │    0.3491 │\n",
      "├──────┼───────────┤\n",
      "│ P2_1 │    0.6509 │\n",
      "╘══════╧═══════════╛\n",
      "╒══════╤═══════════╕\n",
      "│ P1   │   phi(P1) │\n",
      "╞══════╪═══════════╡\n",
      "│ P1_0 │    0.4839 │\n",
      "├──────┼───────────┤\n",
      "│ P1_1 │    0.5161 │\n",
      "╘══════╧═══════════╛\n",
      "╒══════╤═══════════╕\n",
      "│ P1   │   phi(P1) │\n",
      "╞══════╪═══════════╡\n",
      "│ P1_0 │    0.5606 │\n",
      "├──────┼───────────┤\n",
      "│ P1_1 │    0.4394 │\n",
      "╘══════╧═══════════╛\n"
     ]
    }
   ],
   "source": [
    "print(infer.query(['P3'])['P3'])\n",
    "print(infer.query(['P2'], evidence={'P3':0})['P2'])\n",
    "print(infer.query(['P1'], evidence={'P2':1, 'P3':0,})['P1'])\n",
    "print(infer.query(['P1'], evidence={'P3':0, 'P4':1,})['P1'])"
   ]
  }
 ],
 "metadata": {
  "anaconda-cloud": {},
  "celltoolbar": "Hide code",
  "hide_code_all_hidden": false,
  "kernelspec": {
   "display_name": "Python 3",
   "language": "python",
   "name": "python3"
  },
  "language_info": {
   "codemirror_mode": {
    "name": "ipython",
    "version": 3
   },
   "file_extension": ".py",
   "mimetype": "text/x-python",
   "name": "python",
   "nbconvert_exporter": "python",
   "pygments_lexer": "ipython3",
   "version": "3.6.4"
  },
  "nbpresent": {
   "slides": {
    "120b3ffd-a32b-4be6-bde2-b9defb5b4404": {
     "id": "120b3ffd-a32b-4be6-bde2-b9defb5b4404",
     "layout": "grid",
     "prev": null,
     "regions": {
      "50c5162f-a346-41d5-b52e-caf5ddc26957": {
       "attrs": {
        "height": 0.3333333333333333,
        "pad": 0.01,
        "treemap:weight": 1,
        "width": 1,
        "x": 0,
        "y": 0.6666666666666666
       },
       "content": {
        "cell": "a0ffd90e-a87a-4caf-ba85-903e26fc8d3c",
        "part": "source"
       },
       "id": "50c5162f-a346-41d5-b52e-caf5ddc26957"
      },
      "584ff352-0131-4405-8763-aec2049aaa2f": {
       "attrs": {
        "height": 0.6666666666666666,
        "pad": 0.01,
        "treemap:weight": 1,
        "width": 0.5,
        "x": 0,
        "y": 0
       },
       "content": {
        "cell": "22edee52-e19c-44e9-992c-f1048b4e3309",
        "part": "outputs"
       },
       "id": "584ff352-0131-4405-8763-aec2049aaa2f"
      },
      "fc788f0b-5f9e-4261-ae19-4b4cc48ed9c5": {
       "attrs": {
        "height": 0.6666666666666666,
        "pad": 0.01,
        "treemap:weight": 1,
        "width": 0.5,
        "x": 0.5,
        "y": 0
       },
       "content": {
        "cell": "22edee52-e19c-44e9-992c-f1048b4e3309",
        "part": "source"
       },
       "id": "fc788f0b-5f9e-4261-ae19-4b4cc48ed9c5"
      }
     }
    }
   },
   "themes": {
    "default": "c68c62c4-e874-41d0-869d-088faf9c7727",
    "theme": {}
   }
  }
 },
 "nbformat": 4,
 "nbformat_minor": 1
}
